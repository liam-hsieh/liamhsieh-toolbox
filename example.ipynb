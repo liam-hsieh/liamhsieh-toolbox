{
 "cells": [
  {
   "cell_type": "markdown",
   "metadata": {},
   "source": [
    "# Use examples of toolbox\n"
   ]
  },
  {
   "cell_type": "markdown",
   "metadata": {},
   "source": [
    "#### toolbox.dao.connector.DBconnector"
   ]
  },
  {
   "cell_type": "code",
   "execution_count": 1,
   "metadata": {},
   "outputs": [],
   "source": [
    "from toolbox.dao.connector import DBConnector,parse_db_access"
   ]
  },
  {
   "cell_type": "code",
   "execution_count": 2,
   "metadata": {},
   "outputs": [
    {
     "data": {
      "text/html": [
       "<div>\n",
       "<style scoped>\n",
       "    .dataframe tbody tr th:only-of-type {\n",
       "        vertical-align: middle;\n",
       "    }\n",
       "\n",
       "    .dataframe tbody tr th {\n",
       "        vertical-align: top;\n",
       "    }\n",
       "\n",
       "    .dataframe thead th {\n",
       "        text-align: right;\n",
       "    }\n",
       "</style>\n",
       "<table border=\"1\" class=\"dataframe\">\n",
       "  <thead>\n",
       "    <tr style=\"text-align: right;\">\n",
       "      <th></th>\n",
       "      <th>scen_id</th>\n",
       "      <th>scen_name</th>\n",
       "      <th>type</th>\n",
       "      <th>status</th>\n",
       "      <th>instance_id</th>\n",
       "      <th>locked</th>\n",
       "    </tr>\n",
       "  </thead>\n",
       "  <tbody>\n",
       "    <tr>\n",
       "      <th>0</th>\n",
       "      <td>1</td>\n",
       "      <td>Central Baseline – DMTM</td>\n",
       "      <td>Cap Standard MOR</td>\n",
       "      <td>mizer                                         ...</td>\n",
       "      <td>1</td>\n",
       "      <td>False</td>\n",
       "    </tr>\n",
       "  </tbody>\n",
       "</table>\n",
       "</div>"
      ],
      "text/plain": [
       "   scen_id                scen_name                type  \\\n",
       "0        1  Central Baseline – DMTM  Cap Standard MOR     \n",
       "\n",
       "                                              status  instance_id  locked  \n",
       "0  mizer                                         ...            1   False  "
      ]
     },
     "execution_count": 2,
     "metadata": {},
     "output_type": "execute_result"
    }
   ],
   "source": [
    "db_access = parse_db_access(\"./examples/db_connector_testing/db.ini\",\"BASE\")\n",
    "\n",
    "DBC = DBConnector(db_access,scen_id=1) \n",
    "# for a lot of values required to assign for variables in sql queries  \n",
    "# the following argument is recommended; vars_in_sql can also be a return of configuration file using configparser package\n",
    "\n",
    "# vars_in_sql = {\n",
    "#     \"scen_id\":1\n",
    "# }\n",
    "# DBC = DBConnector(db_access,**vars_in_sql)\n",
    "\n",
    "DBC.set_queries_dir(\"./examples/db_connector_testing/mssql_queries\")\n",
    "df = DBC.pull_predefined_query(\"wafer_eq.scen_query\")\n",
    "df"
   ]
  },
  {
   "cell_type": "code",
   "execution_count": 2,
   "metadata": {},
   "outputs": [],
   "source": [
    "db_access = parse_db_access(\"./examples/db_connector_testing/db.ini\",\"XEUS\")\n",
    "DBC = DBConnector(db_access)\n",
    "DBC.set_queries_dir(\"./examples/db_connector_testing/oracle_queries\")\n",
    "#DBC.set_cache_dir(DBC.queries_dir,cache_mode=1)\n",
    "df = DBC.pull_predefined_query(\"test\")\n",
    "print(\"pull by predefined SQL query:\")\n",
    "display(df)\n",
    "\n",
    "s = \"\"\"\n",
    "select * from f_lot_run_card \n",
    "FETCH first 5 ROWS only\n",
    "\"\"\"\n",
    "df = DBC.pull_SQL(s)\n",
    "print(\"pull by sql string\")\n",
    "display(df)\n"
   ]
  },
  {
   "cell_type": "code",
   "execution_count": 2,
   "metadata": {},
   "outputs": [],
   "source": [
    "from toolbox.dao.connector import parse_db_access, BlobConnector\n",
    "import pandas as pd\n",
    "db_access = parse_db_access(\"./examples/db_connector_testing/db.ini\",\"optisuitestorage\")\n",
    "BC = BlobConnector(db_access)"
   ]
  },
  {
   "cell_type": "code",
   "execution_count": 3,
   "metadata": {},
   "outputs": [],
   "source": [
    "import azure\n",
    "\n",
    "class BlobVirtualFolder:\n",
    "    def __init__(self,path:str):\n",
    "        self.path=path\n",
    "        self.elements=[\n",
    "            x.name for x in BC.blob_container_client.walk_blobs(path)\n",
    "        ]\n",
    "\n",
    "        self._folders = [\n",
    "            x.name for x in BC.blob_container_client.walk_blobs(path)\n",
    "            if isinstance(x,azure.storage.blob._list_blobs_helper.BlobPrefix)\n",
    "        ]\n",
    "        \n",
    "        if path is not None:\n",
    "            self.parent_path = self._get_parent_folder()\n",
    "        else:\n",
    "            self.parent_path = \"root\"\n",
    "\n",
    "    def _get_parent_folder(self):\n",
    "        if len(self.path.split(\"/\"))<=2:\n",
    "            return None\n",
    "        else:\n",
    "            temp = self.path.split(\"/\")\n",
    "            return \"/\".join(temp[:-2])+\"/\"\n",
    "    \n",
    "    @property\n",
    "    def folders(self):\n",
    "        return self._folders\n",
    "\n",
    "    @folders.setter\n",
    "    def folders(self,f_list:list):\n",
    "        self._folders = f_list\n",
    "\n",
    "BVF={}\n",
    "def walk_folder(path):\n",
    "    if path not in BVF.keys():\n",
    "        BVF[path] = BlobVirtualFolder(path)\n",
    "\n",
    "    if len(BVF[path].folders)>0:\n",
    "        walk_folder(BVF[path].folders.pop())\n",
    "    elif BVF[path].parent_path != \"root\":\n",
    "            return walk_folder(BVF[path].parent_path)\n",
    "    else:\n",
    "            return None\n",
    "\n",
    "\n",
    "walk_folder(None)\n",
    "\n"
   ]
  },
  {
   "cell_type": "code",
   "execution_count": 27,
   "metadata": {},
   "outputs": [],
   "source": [
    "import os\n",
    "from IPython.core.display import HTML\n",
    "\n",
    "df = HTML(pd.DataFrame(map(lambda x:['<img src=\"file.png\" width=\"60\" >',x] if os.path.split(\"/\")[-1] ==\"\" else [\"folder.png\",x] ,BVF['testwafercost/'].elements),columns=[\"type\",\"blob name\"]).to_html(escape=False))"
   ]
  },
  {
   "cell_type": "code",
   "execution_count": 28,
   "metadata": {},
   "outputs": [
    {
     "data": {
      "text/plain": [
       "IPython.core.display.HTML"
      ]
     },
     "execution_count": 28,
     "metadata": {},
     "output_type": "execute_result"
    }
   ],
   "source": [
    "type(df)"
   ]
  },
  {
   "cell_type": "markdown",
   "metadata": {},
   "source": [
    "#### download the blob to a specified location (dir_path is default to \".\")"
   ]
  },
  {
   "cell_type": "code",
   "execution_count": 2,
   "metadata": {},
   "outputs": [
    {
     "data": {
      "text/plain": [
       "['implanttestavail',\n",
       " 'implanttestavail/solverData',\n",
       " 'implanttestavail/solverData/2022-11-16 09:01:54 PM.zip',\n",
       " 'implanttestavail/solverData/2022-11-16 09:02:36 PM.zip',\n",
       " 'implanttestavail/solverData/2022-11-16 09:03:12 PM.zip']"
      ]
     },
     "metadata": {},
     "output_type": "display_data"
    },
    {
     "data": {
      "text/plain": [
       "'implanttestavail/solverData/2022-11-16 09:03:12 PM.zip'"
      ]
     },
     "execution_count": 2,
     "metadata": {},
     "output_type": "execute_result"
    }
   ],
   "source": [
    "import os\n",
    "scen_name='implanttestavail'\n",
    "display(BC.get_blob_list(scen_name))\n",
    "#blob_name='implanttestavail/solverData/2022-11-16 09:01:54 PM.zip'\n",
    "latest_blob = max([os.path.splitext(x)[0] for x in BC.get_blob_list(scen_name) if x.endswith(\".zip\")]) + '.zip'\n",
    "latest_blob"
   ]
  },
  {
   "cell_type": "code",
   "execution_count": 3,
   "metadata": {},
   "outputs": [],
   "source": [
    "_ = BC.blob_dump(latest_blob, dir_path = \"./examples\")"
   ]
  },
  {
   "cell_type": "markdown",
   "metadata": {},
   "source": [
    "#### return Python object for developing purposes "
   ]
  },
  {
   "cell_type": "code",
   "execution_count": 3,
   "metadata": {},
   "outputs": [
    {
     "data": {
      "text/plain": [
       "<zipfile.ZipFile file=<_io.BytesIO object at 0x7f321dca36f0> mode='r'>"
      ]
     },
     "execution_count": 3,
     "metadata": {},
     "output_type": "execute_result"
    }
   ],
   "source": [
    "# return in-memory zip\n",
    "BC.blob_dump(latest_blob, to_memory=True)\n"
   ]
  },
  {
   "cell_type": "code",
   "execution_count": 4,
   "metadata": {},
   "outputs": [
    {
     "data": {
      "text/plain": [
       "{\n",
       "  \"avaliable keys\": [\n",
       "    \"Solve_details\",\n",
       "    \"gb_per_die\",\n",
       "    \"ACL Change Log\",\n",
       "    \"Finance Wafer Output\",\n",
       "    \"Available Tools Forecasted\"\n",
       "  ]\n",
       "}"
      ]
     },
     "execution_count": 4,
     "metadata": {},
     "output_type": "execute_result"
    }
   ],
   "source": [
    "# return toolbox.dao.feed.attrDict\n",
    "BC.blob_dump(latest_blob, to_attrDict=True)"
   ]
  },
  {
   "cell_type": "markdown",
   "metadata": {},
   "source": [
    "#### upload to Blob storage from dataframe"
   ]
  },
  {
   "cell_type": "code",
   "execution_count": 4,
   "metadata": {},
   "outputs": [],
   "source": [
    "#upload to Blob storage from a dataframe instance\n",
    "df = pd.read_pickle(\"./examples/db_connector_testing/oracle_queries/test.pkl\")\n",
    "BC.upload_csv_from_df(df,'implanttestavail/wafer_cost/','example1.zip',archive=True)\n",
    "#upload a file to Blob storage from local machine\n",
    "#BC.file_upload(file_path=\"example2.csv\")"
   ]
  },
  {
   "cell_type": "markdown",
   "metadata": {},
   "source": []
  }
 ],
 "metadata": {
  "kernelspec": {
   "display_name": "Python 3.10.5 64-bit ('toolbox')",
   "language": "python",
   "name": "python3"
  },
  "language_info": {
   "codemirror_mode": {
    "name": "ipython",
    "version": 3
   },
   "file_extension": ".py",
   "mimetype": "text/x-python",
   "name": "python",
   "nbconvert_exporter": "python",
   "pygments_lexer": "ipython3",
   "version": "3.10.5"
  },
  "vscode": {
   "interpreter": {
    "hash": "76a2dc9b4b50ec46a62d2cf809b7180e3bf5226ab52f0c1c5294190381684a87"
   }
  }
 },
 "nbformat": 4,
 "nbformat_minor": 2
}
